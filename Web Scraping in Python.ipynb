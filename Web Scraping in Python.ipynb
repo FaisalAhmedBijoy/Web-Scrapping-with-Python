{
 "cells": [
  {
   "cell_type": "markdown",
   "metadata": {},
   "source": [
    "## Import the library"
   ]
  },
  {
   "cell_type": "code",
   "execution_count": 20,
   "metadata": {},
   "outputs": [],
   "source": [
    "from bs4 import BeautifulSoup\n",
    "import requests"
   ]
  },
  {
   "cell_type": "markdown",
   "metadata": {},
   "source": [
    "## Get the HTML"
   ]
  },
  {
   "cell_type": "code",
   "execution_count": 22,
   "metadata": {},
   "outputs": [
    {
     "name": "stdout",
     "output_type": "stream",
     "text": [
      "<html>\n",
      "    <body>\n",
      "        <h1>Faisal Ahmed Bijoy</h1>\n",
      "        <h2>Machine learning researcher</h2>\n",
      "        <h3>Department of Computer Science and Engineering</h3>\n",
      "        <h3>Khulna University of Engineering & Technology </h3>\n",
      "        <h2>Skills</h2>\n",
      "        <ol>\n",
      "            <li>Machine learning</li>\n",
      "            <li>Deep learning</li>\n",
      "            <li>Computer vision</li>\n",
      "            <li>Artificial intelligence</li>\n",
      "\n",
      "        </ol>\n",
      "\n",
      "    </body>\n",
      "</html>\n"
     ]
    }
   ],
   "source": [
    "html_text=requests.get('https://faisalahmedbijoy.github.io').text\n",
    "print(html_text)"
   ]
  },
  {
   "cell_type": "markdown",
   "metadata": {},
   "source": [
    "## Deep Drive with BeautifulSoup"
   ]
  },
  {
   "cell_type": "code",
   "execution_count": 24,
   "metadata": {
    "scrolled": true
   },
   "outputs": [
    {
     "name": "stdout",
     "output_type": "stream",
     "text": [
      "<html>\n",
      "<body>\n",
      "<h1>Faisal Ahmed Bijoy</h1>\n",
      "<h2>Machine learning researcher</h2>\n",
      "<h3>Department of Computer Science and Engineering</h3>\n",
      "<h3>Khulna University of Engineering &amp; Technology </h3>\n",
      "<h2>Skills</h2>\n",
      "<ol>\n",
      "<li>Machine learning</li>\n",
      "<li>Deep learning</li>\n",
      "<li>Computer vision</li>\n",
      "<li>Artificial intelligence</li>\n",
      "</ol>\n",
      "</body>\n",
      "</html>\n"
     ]
    }
   ],
   "source": [
    "soup=BeautifulSoup(html_text,'lxml')\n",
    "print(soup)"
   ]
  },
  {
   "cell_type": "code",
   "execution_count": 48,
   "metadata": {
    "scrolled": true
   },
   "outputs": [
    {
     "name": "stdout",
     "output_type": "stream",
     "text": [
      "<h1>Faisal Ahmed Bijoy</h1>\n",
      "Faisal Ahmed Bijoy\n"
     ]
    }
   ],
   "source": [
    "info=soup.find('h1')\n",
    "print(info)\n",
    "print(info.text)"
   ]
  },
  {
   "cell_type": "code",
   "execution_count": 50,
   "metadata": {},
   "outputs": [
    {
     "name": "stdout",
     "output_type": "stream",
     "text": [
      "Name:  Faisal Ahmed Bijoy\n"
     ]
    }
   ],
   "source": [
    "person=info.text\n",
    "print('Name: ',person)"
   ]
  },
  {
   "cell_type": "markdown",
   "metadata": {},
   "source": [
    "## Double Tag"
   ]
  },
  {
   "cell_type": "code",
   "execution_count": 34,
   "metadata": {},
   "outputs": [
    {
     "name": "stdout",
     "output_type": "stream",
     "text": [
      "[<h3>Department of Computer Science and Engineering</h3>, <h3>Khulna University of Engineering &amp; Technology </h3>]\n"
     ]
    }
   ],
   "source": [
    "institution=soup.find_all('h3')\n",
    "print(institution)"
   ]
  },
  {
   "cell_type": "code",
   "execution_count": 39,
   "metadata": {},
   "outputs": [
    {
     "name": "stdout",
     "output_type": "stream",
     "text": [
      "<h3>Department of Computer Science and Engineering</h3>\n",
      "Department of Computer Science and Engineering\n",
      "\n",
      "\n",
      "<h3>Khulna University of Engineering &amp; Technology </h3>\n",
      "Khulna University of Engineering & Technology \n",
      "\n",
      "\n"
     ]
    }
   ],
   "source": [
    "for i in institution:\n",
    "    print(i)\n",
    "    print(i.text)\n",
    "    print('\\n')"
   ]
  },
  {
   "cell_type": "markdown",
   "metadata": {},
   "source": [
    "## Operation with List"
   ]
  },
  {
   "cell_type": "code",
   "execution_count": 42,
   "metadata": {
    "scrolled": true
   },
   "outputs": [
    {
     "name": "stdout",
     "output_type": "stream",
     "text": [
      "<ol>\n",
      "<li>Machine learning</li>\n",
      "<li>Deep learning</li>\n",
      "<li>Computer vision</li>\n",
      "<li>Artificial intelligence</li>\n",
      "</ol>\n"
     ]
    }
   ],
   "source": [
    "LIST=soup.find('ol')\n",
    "print(LIST)"
   ]
  },
  {
   "cell_type": "code",
   "execution_count": 44,
   "metadata": {
    "scrolled": true
   },
   "outputs": [
    {
     "name": "stdout",
     "output_type": "stream",
     "text": [
      "[<li>Machine learning</li>, <li>Deep learning</li>, <li>Computer vision</li>, <li>Artificial intelligence</li>]\n"
     ]
    }
   ],
   "source": [
    "skills=LIST.find_all('li')\n",
    "print(skills)"
   ]
  },
  {
   "cell_type": "code",
   "execution_count": 45,
   "metadata": {
    "scrolled": true
   },
   "outputs": [
    {
     "name": "stdout",
     "output_type": "stream",
     "text": [
      "<li>Machine learning</li>\n",
      "<li>Deep learning</li>\n",
      "<li>Computer vision</li>\n",
      "<li>Artificial intelligence</li>\n"
     ]
    }
   ],
   "source": [
    "for s in skills:\n",
    "    print(s)"
   ]
  },
  {
   "cell_type": "code",
   "execution_count": 55,
   "metadata": {
    "scrolled": false
   },
   "outputs": [
    {
     "name": "stdout",
     "output_type": "stream",
     "text": [
      "Machine learning\n",
      "Deep learning\n",
      "Computer vision\n",
      "Artificial intelligence\n"
     ]
    }
   ],
   "source": [
    "SKILLS_LIST=[]\n",
    "for s in skills:\n",
    "    print(s.text)\n",
    "    SKILLS_LIST.append(s.text)"
   ]
  },
  {
   "cell_type": "code",
   "execution_count": 56,
   "metadata": {},
   "outputs": [
    {
     "data": {
      "text/plain": [
       "['Machine learning',\n",
       " 'Deep learning',\n",
       " 'Computer vision',\n",
       " 'Artificial intelligence']"
      ]
     },
     "execution_count": 56,
     "metadata": {},
     "output_type": "execute_result"
    }
   ],
   "source": [
    "SKILLS_LIST"
   ]
  },
  {
   "cell_type": "markdown",
   "metadata": {},
   "source": [
    "## Show Information"
   ]
  },
  {
   "cell_type": "code",
   "execution_count": 59,
   "metadata": {},
   "outputs": [
    {
     "name": "stdout",
     "output_type": "stream",
     "text": [
      " Name:  Faisal Ahmed Bijoy Skills:  ['Machine learning', 'Deep learning', 'Computer vision', 'Artificial intelligence']\n"
     ]
    }
   ],
   "source": [
    "print(f' Name:  {person} Skills:  {SKILLS_LIST}')"
   ]
  }
 ],
 "metadata": {
  "kernelspec": {
   "display_name": "Python 3",
   "language": "python",
   "name": "python3"
  },
  "language_info": {
   "codemirror_mode": {
    "name": "ipython",
    "version": 3
   },
   "file_extension": ".py",
   "mimetype": "text/x-python",
   "name": "python",
   "nbconvert_exporter": "python",
   "pygments_lexer": "ipython3",
   "version": "3.8.5"
  }
 },
 "nbformat": 4,
 "nbformat_minor": 4
}
